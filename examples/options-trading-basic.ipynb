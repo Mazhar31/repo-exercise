{
  "cells": [
    {
      "cell_type": "markdown",
      "metadata": {
        "id": "yn_RxcllKlAQ"
      },
      "source": [
        "# Alpaca-py options trading basic"
      ]
    },
    {
      "cell_type": "markdown",
      "metadata": {
        "id": "DGRkJvU3KlAW"
      },
      "source": [
        "[![Open In Colab](https://colab.research.google.com/assets/colab-badge.svg)](https://colab.research.google.com/github/alpacahq/alpaca-py/blob/master/examples/options-trading-basic.ipynb)"
      ]
    },
    {
      "cell_type": "markdown",
      "metadata": {
        "id": "r1d3b1DRKlAY"
      },
      "source": [
        "- This notebook shows how to use alpaca-py with options trading API endpoints\n",
        "- Please use ``paper account``. Please ``DO NOT`` use this notebook with live account. In this notebook, we place orders for options as an example."
      ]
    },
    {
      "cell_type": "code",
      "execution_count": 1,
      "metadata": {
        "id": "9SUh0MC0KlAZ"
      },
      "outputs": [],
      "source": [
        "# Please change the following to your own PAPER api key and secret\n",
        "# You can get them from https://alpaca.markets/\n",
        "\n",
        "api_key = \"PKPSYNLLG60LVBQIF1Q7\"\n",
        "secret_key = \"kA2toSKRsStgvvqZ48qTbb6aaYhjuLVgZfl1gXmh\"\n",
        "\n",
        "\n",
        "#### We use paper environment for this example ####\n",
        "paper = True # Please do not modify this. This example is for paper trading only.\n",
        "####\n",
        "\n",
        "# Below are the variables for development this documents\n",
        "# Please do not change these variables\n",
        "\n",
        "trade_api_url = None\n",
        "trade_api_wss = None\n",
        "data_api_url = None\n",
        "option_stream_data_wss = None"
      ]
    },
    {
      "cell_type": "code",
      "execution_count": 2,
      "metadata": {
        "id": "wyk7xyhTKlAc",
        "outputId": "2ad40e3a-ee7d-4e82-e7b9-c4d4b6a32993",
        "colab": {
          "base_uri": "https://localhost:8080/"
        }
      },
      "outputs": [
        {
          "output_type": "stream",
          "name": "stdout",
          "text": [
            "Collecting alpaca-py\n",
            "  Downloading alpaca_py-0.33.0-py3-none-any.whl.metadata (12 kB)\n",
            "Requirement already satisfied: msgpack<2.0.0,>=1.0.3 in /usr/local/lib/python3.10/dist-packages (from alpaca-py) (1.1.0)\n",
            "Requirement already satisfied: pandas>=1.5.3 in /usr/local/lib/python3.10/dist-packages (from alpaca-py) (2.2.2)\n",
            "Requirement already satisfied: pydantic<3.0.0,>=2.0.3 in /usr/local/lib/python3.10/dist-packages (from alpaca-py) (2.9.2)\n",
            "Requirement already satisfied: requests<3.0.0,>=2.30.0 in /usr/local/lib/python3.10/dist-packages (from alpaca-py) (2.32.3)\n",
            "Collecting sseclient-py<2.0.0,>=1.7.2 (from alpaca-py)\n",
            "  Downloading sseclient_py-1.8.0-py2.py3-none-any.whl.metadata (2.0 kB)\n",
            "Collecting websockets>=10.4 (from alpaca-py)\n",
            "  Downloading websockets-14.1-cp310-cp310-manylinux_2_5_x86_64.manylinux1_x86_64.manylinux_2_17_x86_64.manylinux2014_x86_64.whl.metadata (6.7 kB)\n",
            "Requirement already satisfied: numpy>=1.22.4 in /usr/local/lib/python3.10/dist-packages (from pandas>=1.5.3->alpaca-py) (1.26.4)\n",
            "Requirement already satisfied: python-dateutil>=2.8.2 in /usr/local/lib/python3.10/dist-packages (from pandas>=1.5.3->alpaca-py) (2.8.2)\n",
            "Requirement already satisfied: pytz>=2020.1 in /usr/local/lib/python3.10/dist-packages (from pandas>=1.5.3->alpaca-py) (2024.2)\n",
            "Requirement already satisfied: tzdata>=2022.7 in /usr/local/lib/python3.10/dist-packages (from pandas>=1.5.3->alpaca-py) (2024.2)\n",
            "Requirement already satisfied: annotated-types>=0.6.0 in /usr/local/lib/python3.10/dist-packages (from pydantic<3.0.0,>=2.0.3->alpaca-py) (0.7.0)\n",
            "Requirement already satisfied: pydantic-core==2.23.4 in /usr/local/lib/python3.10/dist-packages (from pydantic<3.0.0,>=2.0.3->alpaca-py) (2.23.4)\n",
            "Requirement already satisfied: typing-extensions>=4.6.1 in /usr/local/lib/python3.10/dist-packages (from pydantic<3.0.0,>=2.0.3->alpaca-py) (4.12.2)\n",
            "Requirement already satisfied: charset-normalizer<4,>=2 in /usr/local/lib/python3.10/dist-packages (from requests<3.0.0,>=2.30.0->alpaca-py) (3.4.0)\n",
            "Requirement already satisfied: idna<4,>=2.5 in /usr/local/lib/python3.10/dist-packages (from requests<3.0.0,>=2.30.0->alpaca-py) (3.10)\n",
            "Requirement already satisfied: urllib3<3,>=1.21.1 in /usr/local/lib/python3.10/dist-packages (from requests<3.0.0,>=2.30.0->alpaca-py) (2.2.3)\n",
            "Requirement already satisfied: certifi>=2017.4.17 in /usr/local/lib/python3.10/dist-packages (from requests<3.0.0,>=2.30.0->alpaca-py) (2024.8.30)\n",
            "Requirement already satisfied: six>=1.5 in /usr/local/lib/python3.10/dist-packages (from python-dateutil>=2.8.2->pandas>=1.5.3->alpaca-py) (1.16.0)\n",
            "Downloading alpaca_py-0.33.0-py3-none-any.whl (119 kB)\n",
            "\u001b[2K   \u001b[90m━━━━━━━━━━━━━━━━━━━━━━━━━━━━━━━━━━━━━━━━\u001b[0m \u001b[32m119.9/119.9 kB\u001b[0m \u001b[31m4.1 MB/s\u001b[0m eta \u001b[36m0:00:00\u001b[0m\n",
            "\u001b[?25hDownloading sseclient_py-1.8.0-py2.py3-none-any.whl (8.8 kB)\n",
            "Downloading websockets-14.1-cp310-cp310-manylinux_2_5_x86_64.manylinux1_x86_64.manylinux_2_17_x86_64.manylinux2014_x86_64.whl (168 kB)\n",
            "\u001b[2K   \u001b[90m━━━━━━━━━━━━━━━━━━━━━━━━━━━━━━━━━━━━━━━━\u001b[0m \u001b[32m168.2/168.2 kB\u001b[0m \u001b[31m8.0 MB/s\u001b[0m eta \u001b[36m0:00:00\u001b[0m\n",
            "\u001b[?25hInstalling collected packages: sseclient-py, websockets, alpaca-py\n",
            "Successfully installed alpaca-py-0.33.0 sseclient-py-1.8.0 websockets-14.1\n"
          ]
        }
      ],
      "source": [
        "# install alpaca-py\n",
        "! python3 -m pip install alpaca-py"
      ]
    },
    {
      "cell_type": "code",
      "execution_count": 33,
      "metadata": {
        "id": "4V8FPr_XKlAc"
      },
      "outputs": [],
      "source": [
        "import json\n",
        "from datetime import datetime, timedelta\n",
        "from zoneinfo import ZoneInfo\n",
        "\n",
        "import alpaca\n",
        "from alpaca.trading.client import TradingClient\n",
        "from alpaca.data.timeframe import TimeFrame, TimeFrameUnit\n",
        "from alpaca.data.historical.option import OptionHistoricalDataClient\n",
        "from alpaca.trading.stream import TradingStream\n",
        "from alpaca.data.live.option import OptionDataStream\n",
        "\n",
        "from alpaca.data.requests import (\n",
        "    OptionBarsRequest,\n",
        "    OptionTradesRequest,\n",
        "    OptionLatestQuoteRequest,\n",
        "    OptionLatestTradeRequest,\n",
        "    OptionSnapshotRequest,\n",
        "    OptionChainRequest\n",
        ")\n",
        "from alpaca.trading.requests import (\n",
        "    GetOptionContractsRequest,\n",
        "    GetAssetsRequest,\n",
        "    MarketOrderRequest,\n",
        "    GetOrdersRequest,\n",
        "    ClosePositionRequest\n",
        ")\n",
        "from alpaca.trading.enums import (\n",
        "    AssetStatus,\n",
        "    ExerciseStyle,\n",
        "    OrderSide,\n",
        "    OrderType,\n",
        "    TimeInForce,\n",
        "    QueryOrderStatus\n",
        ")\n",
        "from alpaca.common.exceptions import APIError"
      ]
    },
    {
      "cell_type": "code",
      "execution_count": 34,
      "metadata": {
        "id": "gedV3lsqKlAe"
      },
      "outputs": [],
      "source": [
        "# to run async code in jupyter notebook\n",
        "import nest_asyncio\n",
        "nest_asyncio.apply()"
      ]
    },
    {
      "cell_type": "code",
      "execution_count": 35,
      "metadata": {
        "id": "i5EUxPsAKlAf",
        "outputId": "c39ea1d5-ea71-4c9e-c181-63ac993cf761",
        "colab": {
          "base_uri": "https://localhost:8080/",
          "height": 35
        }
      },
      "outputs": [
        {
          "output_type": "execute_result",
          "data": {
            "text/plain": [
              "'0.33.0'"
            ],
            "application/vnd.google.colaboratory.intrinsic+json": {
              "type": "string"
            }
          },
          "metadata": {},
          "execution_count": 35
        }
      ],
      "source": [
        "# check version of alpaca-py\n",
        "alpaca.__version__"
      ]
    },
    {
      "cell_type": "markdown",
      "metadata": {
        "id": "3bNV-UtCKlAf"
      },
      "source": [
        "# Trading Client"
      ]
    },
    {
      "cell_type": "code",
      "execution_count": 36,
      "metadata": {
        "id": "Wt4MEd-AKlAg"
      },
      "outputs": [],
      "source": [
        "# setup clients\n",
        "trade_client = TradingClient(api_key=api_key, secret_key=secret_key, paper=paper, url_override=trade_api_url)"
      ]
    },
    {
      "cell_type": "code",
      "execution_count": 37,
      "metadata": {
        "id": "67-t46cSKlAh",
        "outputId": "161cd1cd-4cef-400c-d724-8784d516ba4a",
        "colab": {
          "base_uri": "https://localhost:8080/"
        }
      },
      "outputs": [
        {
          "output_type": "execute_result",
          "data": {
            "text/plain": [
              "{   'account_blocked': False,\n",
              "    'account_number': 'PA30QIJYEPG7',\n",
              "    'accrued_fees': '0',\n",
              "    'buying_power': '2452541.18',\n",
              "    'cash': '-741972.37',\n",
              "    'created_at': datetime.datetime(2023, 3, 23, 20, 23, 14, 889110, tzinfo=TzInfo(UTC)),\n",
              "    'crypto_status': <AccountStatus.ACTIVE: 'ACTIVE'>,\n",
              "    'currency': 'USD',\n",
              "    'daytrade_count': 4,\n",
              "    'daytrading_buying_power': '2452541.18',\n",
              "    'equity': '1225892.2',\n",
              "    'id': UUID('2b83dd79-e5f9-4c51-adbe-25b81d943e0f'),\n",
              "    'initial_margin': '983932.29',\n",
              "    'last_equity': '1219809.14',\n",
              "    'last_maintenance_margin': '605455.45',\n",
              "    'long_market_value': '1967864.57',\n",
              "    'maintenance_margin': '590359.37',\n",
              "    'multiplier': '4',\n",
              "    'non_marginable_buying_power': '239959.91',\n",
              "    'options_approved_level': 2,\n",
              "    'options_buying_power': '635532.83',\n",
              "    'options_trading_level': 2,\n",
              "    'pattern_day_trader': True,\n",
              "    'pending_transfer_in': None,\n",
              "    'pending_transfer_out': None,\n",
              "    'portfolio_value': '1225892.2',\n",
              "    'regt_buying_power': '483919.83',\n",
              "    'short_market_value': '0',\n",
              "    'shorting_enabled': True,\n",
              "    'sma': '1210106.37',\n",
              "    'status': <AccountStatus.ACTIVE: 'ACTIVE'>,\n",
              "    'trade_suspended_by_user': False,\n",
              "    'trading_blocked': False,\n",
              "    'transfers_blocked': False}"
            ]
          },
          "metadata": {},
          "execution_count": 37
        }
      ],
      "source": [
        "# check trading account\n",
        "# There are trhee new columns in the account object:\n",
        "# - options_buying_power\n",
        "# - options_approved_level\n",
        "# - options_trading_level\n",
        "acct = trade_client.get_account()\n",
        "acct"
      ]
    },
    {
      "cell_type": "code",
      "execution_count": 38,
      "metadata": {
        "id": "wbKWrWxuKlAi",
        "outputId": "76427183-eb9c-4e5e-eeb3-4a90c4bbd9e2",
        "colab": {
          "base_uri": "https://localhost:8080/"
        }
      },
      "outputs": [
        {
          "output_type": "execute_result",
          "data": {
            "text/plain": [
              "{   'dtbp_check': <DTBPCheck.ENTRY: 'entry'>,\n",
              "    'fractional_trading': True,\n",
              "    'max_margin_multiplier': '4',\n",
              "    'max_options_trading_level': None,\n",
              "    'no_shorting': False,\n",
              "    'pdt_check': <PDTCheck.ENTRY: 'entry'>,\n",
              "    'ptp_no_exception_entry': False,\n",
              "    'suspend_trade': False,\n",
              "    'trade_confirm_email': <TradeConfirmationEmail.ALL: 'all'>}"
            ]
          },
          "metadata": {},
          "execution_count": 38
        }
      ],
      "source": [
        "# check account configuration\n",
        "# - we have new field `max_options_trading_level`\n",
        "acct_config = trade_client.get_account_configurations()\n",
        "acct_config"
      ]
    },
    {
      "cell_type": "code",
      "execution_count": 39,
      "metadata": {
        "id": "6PEyRaxpKlAi",
        "outputId": "bfcc923b-7611-4aaf-a7c8-6b726775ca4e",
        "colab": {
          "base_uri": "https://localhost:8080/"
        }
      },
      "outputs": [
        {
          "output_type": "execute_result",
          "data": {
            "text/plain": [
              "[{   'asset_class': <AssetClass.US_EQUITY: 'us_equity'>,\n",
              "     'attributes': ['has_options'],\n",
              "     'easy_to_borrow': False,\n",
              "     'exchange': <AssetExchange.OTC: 'OTC'>,\n",
              "     'fractionable': False,\n",
              "     'id': UUID('0a42abd1-23be-489f-9a2b-03014ca6633e'),\n",
              "     'maintenance_margin_requirement': 100.0,\n",
              "     'marginable': False,\n",
              "     'min_order_size': None,\n",
              "     'min_trade_increment': None,\n",
              "     'name': 'ARRIVAL Common Shares',\n",
              "     'price_increment': None,\n",
              "     'shortable': False,\n",
              "     'status': <AssetStatus.ACTIVE: 'active'>,\n",
              "     'symbol': 'ARVLF',\n",
              "     'tradable': False},\n",
              " {   'asset_class': <AssetClass.US_EQUITY: 'us_equity'>,\n",
              "     'attributes': ['has_options'],\n",
              "     'easy_to_borrow': False,\n",
              "     'exchange': <AssetExchange.OTC: 'OTC'>,\n",
              "     'fractionable': False,\n",
              "     'id': UUID('8332396f-6baf-49b1-8717-e51da871b4a9'),\n",
              "     'maintenance_margin_requirement': 100.0,\n",
              "     'marginable': False,\n",
              "     'min_order_size': None,\n",
              "     'min_trade_increment': None,\n",
              "     'name': 'BETTER THERAPEUTICS INC Common Stock',\n",
              "     'price_increment': None,\n",
              "     'shortable': False,\n",
              "     'status': <AssetStatus.ACTIVE: 'active'>,\n",
              "     'symbol': 'BTTX',\n",
              "     'tradable': False}]"
            ]
          },
          "metadata": {},
          "execution_count": 39
        }
      ],
      "source": [
        "# get list of assets which are options enabled\n",
        "# - we can filter assets by `options_enabled` attribute\n",
        "# - asset object has `options_enabled` attribute if it is options enabled\n",
        "req = GetAssetsRequest(\n",
        "  attributes = \"options_enabled\"\n",
        ")\n",
        "assets = trade_client.get_all_assets(req)\n",
        "assets[:2]"
      ]
    },
    {
      "cell_type": "code",
      "execution_count": 40,
      "metadata": {
        "id": "KMT7Lsg7KlAj",
        "outputId": "e460311a-10c5-49ff-f3fa-4574b0aa37f6",
        "colab": {
          "base_uri": "https://localhost:8080/"
        }
      },
      "outputs": [
        {
          "output_type": "execute_result",
          "data": {
            "text/plain": [
              "{   'next_page_token': 'Mg==',\n",
              "    'option_contracts': [   {   'close_price': '126.98',\n",
              "                                'close_price_date': datetime.date(2024, 11, 18),\n",
              "                                'expiration_date': datetime.date(2024, 11, 22),\n",
              "                                'id': '9129e4ed-047d-46d4-b4d4-253d635ced80',\n",
              "                                'name': 'AAPL Nov 22 2024 100 Call',\n",
              "                                'open_interest': '9',\n",
              "                                'open_interest_date': datetime.date(2024, 11, 15),\n",
              "                                'root_symbol': 'AAPL',\n",
              "                                'size': '100',\n",
              "                                'status': <AssetStatus.ACTIVE: 'active'>,\n",
              "                                'strike_price': 100.0,\n",
              "                                'style': <ExerciseStyle.AMERICAN: 'american'>,\n",
              "                                'symbol': 'AAPL241122C00100000',\n",
              "                                'tradable': True,\n",
              "                                'type': <ContractType.CALL: 'call'>,\n",
              "                                'underlying_asset_id': UUID('b0b6dd9d-8b9b-48a9-ba46-b9d54906e415'),\n",
              "                                'underlying_symbol': 'AAPL'},\n",
              "                            {   'close_price': None,\n",
              "                                'close_price_date': None,\n",
              "                                'expiration_date': datetime.date(2024, 11, 22),\n",
              "                                'id': '388e3d18-3a56-4d49-b834-5b2c7bedbd96',\n",
              "                                'name': 'AAPL Nov 22 2024 105 Call',\n",
              "                                'open_interest': None,\n",
              "                                'open_interest_date': None,\n",
              "                                'root_symbol': 'AAPL',\n",
              "                                'size': '100',\n",
              "                                'status': <AssetStatus.ACTIVE: 'active'>,\n",
              "                                'strike_price': 105.0,\n",
              "                                'style': <ExerciseStyle.AMERICAN: 'american'>,\n",
              "                                'symbol': 'AAPL241122C00105000',\n",
              "                                'tradable': True,\n",
              "                                'type': <ContractType.CALL: 'call'>,\n",
              "                                'underlying_asset_id': UUID('b0b6dd9d-8b9b-48a9-ba46-b9d54906e415'),\n",
              "                                'underlying_symbol': 'AAPL'}]}"
            ]
          },
          "metadata": {},
          "execution_count": 40
        }
      ],
      "source": [
        "# get list of options contracts for the given underlying symbol (e.g. SPY,AAPL)\n",
        "# - get_option_contracts() is a new method to get list of options contracts\n",
        "# - in this example, we get 2 options contracts for SPY,AAPL\n",
        "# - you can continue to fetch options contracts by specifying page_token from next_page_token of response\n",
        "underlying_symbols = [\"SPY\", \"AAPL\"]\n",
        "req = GetOptionContractsRequest(\n",
        "    underlying_symbols = underlying_symbols,               # specify underlying symbols\n",
        "    status = AssetStatus.ACTIVE,                           # specify asset status: active (default)\n",
        "    expiration_date = None,                                # specify expiration date (specified date + 1 day range)\n",
        "    expiration_date_gte = None,                            # we can pass date object\n",
        "    expiration_date_lte = None,                            # or string (YYYY-MM-DD)\n",
        "    root_symbol = None,                                    # specify root symbol\n",
        "    type = None,                                           # specify option type (ContractType.CALL or ContractType.PUT)\n",
        "    style = None,                                          # specify option style (ContractStyle.AMERICAN or ContractStyle.EUROPEAN)\n",
        "    strike_price_gte = None,                               # specify strike price range\n",
        "    strike_price_lte = None,                               # specify strike price range\n",
        "    limit = 2,                                             # specify limit\n",
        "    page_token = None,                                     # specify page token\n",
        ")\n",
        "res = trade_client.get_option_contracts(req)\n",
        "res"
      ]
    },
    {
      "cell_type": "code",
      "execution_count": 41,
      "metadata": {
        "id": "4FXHJFFMKlAk",
        "outputId": "8277ece0-b522-4da4-8023-6687e05deebc",
        "colab": {
          "base_uri": "https://localhost:8080/",
          "height": 625
        }
      },
      "outputs": [
        {
          "output_type": "display_data",
          "data": {
            "text/plain": [
              "{   'next_page_token': 'NA==',\n",
              "    'option_contracts': [   {   'close_price': None,\n",
              "                                'close_price_date': None,\n",
              "                                'expiration_date': datetime.date(2024, 11, 22),\n",
              "                                'id': '2d3470b2-2f67-4d64-b61f-f36ef30e9118',\n",
              "                                'name': 'AAPL Nov 22 2024 110 Call',\n",
              "                                'open_interest': None,\n",
              "                                'open_interest_date': None,\n",
              "                                'root_symbol': 'AAPL',\n",
              "                                'size': '100',\n",
              "                                'status': <AssetStatus.ACTIVE: 'active'>,\n",
              "                                'strike_price': 110.0,\n",
              "                                'style': <ExerciseStyle.AMERICAN: 'american'>,\n",
              "                                'symbol': 'AAPL241122C00110000',\n",
              "                                'tradable': True,\n",
              "                                'type': <ContractType.CALL: 'call'>,\n",
              "                                'underlying_asset_id': UUID('b0b6dd9d-8b9b-48a9-ba46-b9d54906e415'),\n",
              "                                'underlying_symbol': 'AAPL'},\n",
              "                            {   'close_price': None,\n",
              "                                'close_price_date': None,\n",
              "                                'expiration_date': datetime.date(2024, 11, 22),\n",
              "                                'id': '080800a9-300d-4271-8510-c24ed53f3847',\n",
              "                                'name': 'AAPL Nov 22 2024 115 Call',\n",
              "                                'open_interest': None,\n",
              "                                'open_interest_date': None,\n",
              "                                'root_symbol': 'AAPL',\n",
              "                                'size': '100',\n",
              "                                'status': <AssetStatus.ACTIVE: 'active'>,\n",
              "                                'strike_price': 115.0,\n",
              "                                'style': <ExerciseStyle.AMERICAN: 'american'>,\n",
              "                                'symbol': 'AAPL241122C00115000',\n",
              "                                'tradable': True,\n",
              "                                'type': <ContractType.CALL: 'call'>,\n",
              "                                'underlying_asset_id': UUID('b0b6dd9d-8b9b-48a9-ba46-b9d54906e415'),\n",
              "                                'underlying_symbol': 'AAPL'}]}"
            ]
          },
          "metadata": {}
        }
      ],
      "source": [
        "# continue to fetch option contracts if there is next_page_token in response\n",
        "if res.next_page_token is not None:\n",
        "    req = GetOptionContractsRequest(\n",
        "        underlying_symbols = underlying_symbols,               # specify underlying symbols\n",
        "        status = AssetStatus.ACTIVE,                           # specify asset status: active (default)\n",
        "        expiration_date = None,                                # specify expiration date (specified date + 1 day range)\n",
        "        expiration_date_gte = None,                            # we can pass date object\n",
        "        expiration_date_lte = None,                            # or string (YYYY-MM-DD)\n",
        "        root_symbol = None,                                    # specify root symbol\n",
        "        type = None,                                           # specify option type (ContractType.CALL or ContractType.PUT)\n",
        "        style = None,                                          # specify option style (ContractStyle.AMERICAN or ContractStyle.EUROPEAN)\n",
        "        strike_price_gte = None,                               # specify strike price range\n",
        "        strike_price_lte = None,                               # specify strike price range\n",
        "        limit = 2,                                             # specify limit\n",
        "        page_token = res.next_page_token,                      # specify page token\n",
        "    )\n",
        "    res = trade_client.get_option_contracts(req)\n",
        "    display(res)"
      ]
    },
    {
      "cell_type": "code",
      "execution_count": 42,
      "metadata": {
        "id": "0d0GvBzYKlAk",
        "outputId": "8c58f544-c45a-4096-ff88-eda1787a643b",
        "colab": {
          "base_uri": "https://localhost:8080/"
        }
      },
      "outputs": [
        {
          "output_type": "execute_result",
          "data": {
            "text/plain": [
              "{   'close_price': None,\n",
              "    'close_price_date': None,\n",
              "    'expiration_date': datetime.date(2024, 11, 22),\n",
              "    'id': '2d3470b2-2f67-4d64-b61f-f36ef30e9118',\n",
              "    'name': 'AAPL Nov 22 2024 110 Call',\n",
              "    'open_interest': None,\n",
              "    'open_interest_date': None,\n",
              "    'root_symbol': 'AAPL',\n",
              "    'size': '100',\n",
              "    'status': <AssetStatus.ACTIVE: 'active'>,\n",
              "    'strike_price': 110.0,\n",
              "    'style': <ExerciseStyle.AMERICAN: 'american'>,\n",
              "    'symbol': 'AAPL241122C00110000',\n",
              "    'tradable': True,\n",
              "    'type': <ContractType.CALL: 'call'>,\n",
              "    'underlying_asset_id': UUID('b0b6dd9d-8b9b-48a9-ba46-b9d54906e415'),\n",
              "    'underlying_symbol': 'AAPL'}"
            ]
          },
          "metadata": {},
          "execution_count": 42
        }
      ],
      "source": [
        "# get options contract by symbol\n",
        "# - get_option_contract() is a new method to get options contract by symbol or id\n",
        "symbol = res.option_contracts[0].symbol\n",
        "contract = trade_client.get_option_contract(symbol)\n",
        "contract"
      ]
    },
    {
      "cell_type": "code",
      "execution_count": 43,
      "metadata": {
        "id": "SxIYgfXYKlAl",
        "outputId": "36d85d80-6dff-4abf-bce2-097340841904",
        "colab": {
          "base_uri": "https://localhost:8080/"
        }
      },
      "outputs": [
        {
          "output_type": "execute_result",
          "data": {
            "text/plain": [
              "{   'close_price': None,\n",
              "    'close_price_date': None,\n",
              "    'expiration_date': datetime.date(2024, 11, 22),\n",
              "    'id': '2d3470b2-2f67-4d64-b61f-f36ef30e9118',\n",
              "    'name': 'AAPL Nov 22 2024 110 Call',\n",
              "    'open_interest': None,\n",
              "    'open_interest_date': None,\n",
              "    'root_symbol': 'AAPL',\n",
              "    'size': '100',\n",
              "    'status': <AssetStatus.ACTIVE: 'active'>,\n",
              "    'strike_price': 110.0,\n",
              "    'style': <ExerciseStyle.AMERICAN: 'american'>,\n",
              "    'symbol': 'AAPL241122C00110000',\n",
              "    'tradable': True,\n",
              "    'type': <ContractType.CALL: 'call'>,\n",
              "    'underlying_asset_id': UUID('b0b6dd9d-8b9b-48a9-ba46-b9d54906e415'),\n",
              "    'underlying_symbol': 'AAPL'}"
            ]
          },
          "metadata": {},
          "execution_count": 43
        }
      ],
      "source": [
        "# get options contract by id\n",
        "id = res.option_contracts[0].id\n",
        "contract = trade_client.get_option_contract(symbol_or_id=id)\n",
        "contract"
      ]
    },
    {
      "cell_type": "code",
      "execution_count": 44,
      "metadata": {
        "id": "WR1FQ_W4KlAl",
        "outputId": "0606bcab-ec70-4f46-d12c-407bdf1233c2",
        "colab": {
          "base_uri": "https://localhost:8080/"
        }
      },
      "outputs": [
        {
          "output_type": "execute_result",
          "data": {
            "text/plain": [
              "[{   'close_price': None,\n",
              "     'close_price_date': None,\n",
              "     'expiration_date': datetime.date(2024, 11, 20),\n",
              "     'id': 'f137e120-cc28-48aa-a0d2-4bac5a513d2b',\n",
              "     'name': 'SPY Nov 20 2024 300 Put',\n",
              "     'open_interest': None,\n",
              "     'open_interest_date': None,\n",
              "     'root_symbol': 'SPY',\n",
              "     'size': '100',\n",
              "     'status': <AssetStatus.ACTIVE: 'active'>,\n",
              "     'strike_price': 300.0,\n",
              "     'style': <ExerciseStyle.AMERICAN: 'american'>,\n",
              "     'symbol': 'SPY241120P00300000',\n",
              "     'tradable': True,\n",
              "     'type': <ContractType.PUT: 'put'>,\n",
              "     'underlying_asset_id': UUID('b28f4066-5c6d-479b-a2af-85dc1a8f16fb'),\n",
              "     'underlying_symbol': 'SPY'},\n",
              " {   'close_price': None,\n",
              "     'close_price_date': None,\n",
              "     'expiration_date': datetime.date(2024, 11, 20),\n",
              "     'id': '2905e1c3-b560-40c8-b3ec-e346e2c0eef4',\n",
              "     'name': 'SPY Nov 20 2024 305 Put',\n",
              "     'open_interest': None,\n",
              "     'open_interest_date': None,\n",
              "     'root_symbol': 'SPY',\n",
              "     'size': '100',\n",
              "     'status': <AssetStatus.ACTIVE: 'active'>,\n",
              "     'strike_price': 305.0,\n",
              "     'style': <ExerciseStyle.AMERICAN: 'american'>,\n",
              "     'symbol': 'SPY241120P00305000',\n",
              "     'tradable': True,\n",
              "     'type': <ContractType.PUT: 'put'>,\n",
              "     'underlying_asset_id': UUID('b28f4066-5c6d-479b-a2af-85dc1a8f16fb'),\n",
              "     'underlying_symbol': 'SPY'}]"
            ]
          },
          "metadata": {},
          "execution_count": 44
        }
      ],
      "source": [
        "# get put options contracts\n",
        "underlying_symbols = [\"SPY\"]\n",
        "\n",
        "# specify expiration date range\n",
        "now = datetime.now(tz = ZoneInfo(\"America/New_York\"))\n",
        "day1 = now + timedelta(days = 1)\n",
        "day60 = now + timedelta(days = 60)\n",
        "\n",
        "req = GetOptionContractsRequest(\n",
        "    underlying_symbols = underlying_symbols,                     # specify underlying symbols\n",
        "    status = AssetStatus.ACTIVE,                                 # specify asset status: active (default)\n",
        "    expiration_date = None,                                      # specify expiration date (specified date + 1 day range)\n",
        "    expiration_date_gte = day1.date(),                           # we can pass date object\n",
        "    expiration_date_lte = day60.strftime(format = \"%Y-%m-%d\"),   # or string\n",
        "    root_symbol = None,                                          # specify root symbol\n",
        "    type = \"put\",                                                # specify option type: put\n",
        "    style = ExerciseStyle.AMERICAN,                              # specify option style: american\n",
        "    strike_price_gte = None,                                     # specify strike price range\n",
        "    strike_price_lte = None,                                     # specify strike price range\n",
        "    limit = 100,                                                 # specify limit\n",
        "    page_token = None,                                           # specify page\n",
        ")\n",
        "res = trade_client.get_option_contracts(req)\n",
        "res.option_contracts[:2]"
      ]
    },
    {
      "cell_type": "code",
      "execution_count": 45,
      "metadata": {
        "id": "lpRLVteiKlAm",
        "outputId": "5b1efa0b-e475-4e0a-dc52-e0a3ee785028",
        "colab": {
          "base_uri": "https://localhost:8080/"
        }
      },
      "outputs": [
        {
          "output_type": "execute_result",
          "data": {
            "text/plain": [
              "{   'close_price': '0.29',\n",
              "    'close_price_date': datetime.date(2024, 11, 18),\n",
              "    'expiration_date': datetime.date(2024, 11, 20),\n",
              "    'id': '64a72a00-1651-4db4-a6b0-c4ba6525d3b4',\n",
              "    'name': 'SPY Nov 20 2024 577 Put',\n",
              "    'open_interest': '6400',\n",
              "    'open_interest_date': datetime.date(2024, 11, 15),\n",
              "    'root_symbol': 'SPY',\n",
              "    'size': '100',\n",
              "    'status': <AssetStatus.ACTIVE: 'active'>,\n",
              "    'strike_price': 577.0,\n",
              "    'style': <ExerciseStyle.AMERICAN: 'american'>,\n",
              "    'symbol': 'SPY241120P00577000',\n",
              "    'tradable': True,\n",
              "    'type': <ContractType.PUT: 'put'>,\n",
              "    'underlying_asset_id': UUID('b28f4066-5c6d-479b-a2af-85dc1a8f16fb'),\n",
              "    'underlying_symbol': 'SPY'}"
            ]
          },
          "metadata": {},
          "execution_count": 45
        }
      ],
      "source": [
        "# get high open_interest contract\n",
        "open_interest = 0\n",
        "high_open_interest_contract = None\n",
        "for contract in res.option_contracts:\n",
        "    if (contract.open_interest is not None) and (int(contract.open_interest) > open_interest):\n",
        "        open_interest = int(contract.open_interest)\n",
        "        high_open_interest_contract = contract\n",
        "high_open_interest_contract"
      ]
    },
    {
      "cell_type": "code",
      "execution_count": 46,
      "metadata": {
        "id": "UTDj5u2KKlAm",
        "outputId": "8b77e3c1-aa24-411f-f72a-3531d83a6aa8",
        "colab": {
          "base_uri": "https://localhost:8080/"
        }
      },
      "outputs": [
        {
          "output_type": "execute_result",
          "data": {
            "text/plain": [
              "{   'asset_class': <AssetClass.US_OPTION: 'us_option'>,\n",
              "    'asset_id': UUID('64a72a00-1651-4db4-a6b0-c4ba6525d3b4'),\n",
              "    'canceled_at': None,\n",
              "    'client_order_id': 'faf259f9-e7eb-4ee4-97bc-ecfa639e095c',\n",
              "    'created_at': datetime.datetime(2024, 11, 19, 16, 28, 32, 187421, tzinfo=TzInfo(UTC)),\n",
              "    'expired_at': None,\n",
              "    'extended_hours': False,\n",
              "    'failed_at': None,\n",
              "    'filled_at': None,\n",
              "    'filled_avg_price': None,\n",
              "    'filled_qty': '0',\n",
              "    'hwm': None,\n",
              "    'id': UUID('f9c8e809-f18d-45df-8584-532c68a0ca89'),\n",
              "    'legs': None,\n",
              "    'limit_price': None,\n",
              "    'notional': None,\n",
              "    'order_class': <OrderClass.SIMPLE: 'simple'>,\n",
              "    'order_type': <OrderType.MARKET: 'market'>,\n",
              "    'qty': '1',\n",
              "    'replaced_at': None,\n",
              "    'replaced_by': None,\n",
              "    'replaces': None,\n",
              "    'side': <OrderSide.BUY: 'buy'>,\n",
              "    'status': <OrderStatus.PENDING_NEW: 'pending_new'>,\n",
              "    'stop_price': None,\n",
              "    'submitted_at': datetime.datetime(2024, 11, 19, 16, 28, 32, 185711, tzinfo=TzInfo(UTC)),\n",
              "    'symbol': 'SPY241120P00577000',\n",
              "    'time_in_force': <TimeInForce.DAY: 'day'>,\n",
              "    'trail_percent': None,\n",
              "    'trail_price': None,\n",
              "    'type': <OrderType.MARKET: 'market'>,\n",
              "    'updated_at': datetime.datetime(2024, 11, 19, 16, 28, 32, 187460, tzinfo=TzInfo(UTC))}"
            ]
          },
          "metadata": {},
          "execution_count": 46
        }
      ],
      "source": [
        "# place buy put option order\n",
        "# - we can place buy put option order same as buy stock/crypto order\n",
        "req = MarketOrderRequest(\n",
        "    symbol = high_open_interest_contract.symbol,\n",
        "    qty = 1,\n",
        "    side = OrderSide.BUY,\n",
        "    type = OrderType.MARKET,\n",
        "    time_in_force = TimeInForce.DAY,\n",
        ")\n",
        "res = trade_client.submit_order(req)\n",
        "res"
      ]
    },
    {
      "cell_type": "code",
      "execution_count": 47,
      "metadata": {
        "id": "8FPPaTuvKlAm",
        "outputId": "b61a1a0d-a7ab-4e50-e6fd-e9f945a06f18",
        "colab": {
          "base_uri": "https://localhost:8080/"
        }
      },
      "outputs": [
        {
          "output_type": "execute_result",
          "data": {
            "text/plain": [
              "[{   'asset_class': <AssetClass.US_OPTION: 'us_option'>,\n",
              "     'asset_id': UUID('64a72a00-1651-4db4-a6b0-c4ba6525d3b4'),\n",
              "     'canceled_at': None,\n",
              "     'client_order_id': 'faf259f9-e7eb-4ee4-97bc-ecfa639e095c',\n",
              "     'created_at': datetime.datetime(2024, 11, 19, 16, 28, 32, 187421, tzinfo=TzInfo(UTC)),\n",
              "     'expired_at': None,\n",
              "     'extended_hours': False,\n",
              "     'failed_at': None,\n",
              "     'filled_at': datetime.datetime(2024, 11, 19, 16, 28, 32, 247419, tzinfo=TzInfo(UTC)),\n",
              "     'filled_avg_price': '0.2',\n",
              "     'filled_qty': '1',\n",
              "     'hwm': None,\n",
              "     'id': UUID('f9c8e809-f18d-45df-8584-532c68a0ca89'),\n",
              "     'legs': None,\n",
              "     'limit_price': None,\n",
              "     'notional': None,\n",
              "     'order_class': <OrderClass.SIMPLE: 'simple'>,\n",
              "     'order_type': <OrderType.MARKET: 'market'>,\n",
              "     'qty': '1',\n",
              "     'replaced_at': None,\n",
              "     'replaced_by': None,\n",
              "     'replaces': None,\n",
              "     'side': <OrderSide.BUY: 'buy'>,\n",
              "     'status': <OrderStatus.FILLED: 'filled'>,\n",
              "     'stop_price': None,\n",
              "     'submitted_at': datetime.datetime(2024, 11, 19, 16, 28, 32, 191116, tzinfo=TzInfo(UTC)),\n",
              "     'symbol': 'SPY241120P00577000',\n",
              "     'time_in_force': <TimeInForce.DAY: 'day'>,\n",
              "     'trail_percent': None,\n",
              "     'trail_price': None,\n",
              "     'type': <OrderType.MARKET: 'market'>,\n",
              "     'updated_at': datetime.datetime(2024, 11, 19, 16, 28, 32, 249358, tzinfo=TzInfo(UTC))},\n",
              " {   'asset_class': <AssetClass.US_OPTION: 'us_option'>,\n",
              "     'asset_id': UUID('64a72a00-1651-4db4-a6b0-c4ba6525d3b4'),\n",
              "     'canceled_at': None,\n",
              "     'client_order_id': '0c95599e-0926-453b-855f-9aac91708c95',\n",
              "     'created_at': datetime.datetime(2024, 11, 19, 16, 20, 10, 155661, tzinfo=TzInfo(UTC)),\n",
              "     'expired_at': None,\n",
              "     'extended_hours': False,\n",
              "     'failed_at': None,\n",
              "     'filled_at': datetime.datetime(2024, 11, 19, 16, 20, 10, 165080, tzinfo=TzInfo(UTC)),\n",
              "     'filled_avg_price': '0.23',\n",
              "     'filled_qty': '1',\n",
              "     'hwm': None,\n",
              "     'id': UUID('4985c12c-0ac4-475b-8843-e34bcaff802c'),\n",
              "     'legs': None,\n",
              "     'limit_price': None,\n",
              "     'notional': None,\n",
              "     'order_class': <OrderClass.SIMPLE: 'simple'>,\n",
              "     'order_type': <OrderType.MARKET: 'market'>,\n",
              "     'qty': '1',\n",
              "     'replaced_at': None,\n",
              "     'replaced_by': None,\n",
              "     'replaces': None,\n",
              "     'side': <OrderSide.BUY: 'buy'>,\n",
              "     'status': <OrderStatus.FILLED: 'filled'>,\n",
              "     'stop_price': None,\n",
              "     'submitted_at': datetime.datetime(2024, 11, 19, 16, 20, 10, 159912, tzinfo=TzInfo(UTC)),\n",
              "     'symbol': 'SPY241120P00577000',\n",
              "     'time_in_force': <TimeInForce.DAY: 'day'>,\n",
              "     'trail_percent': None,\n",
              "     'trail_price': None,\n",
              "     'type': <OrderType.MARKET: 'market'>,\n",
              "     'updated_at': datetime.datetime(2024, 11, 19, 16, 20, 10, 166615, tzinfo=TzInfo(UTC))}]"
            ]
          },
          "metadata": {},
          "execution_count": 47
        }
      ],
      "source": [
        "# get list of orders by specifying option contract symbol\n",
        "req = GetOrdersRequest(\n",
        "    status = QueryOrderStatus.ALL,\n",
        "    symbols = [high_open_interest_contract.symbol],\n",
        "    limit = 2,\n",
        ")\n",
        "orders = trade_client.get_orders(req)\n",
        "orders"
      ]
    },
    {
      "cell_type": "code",
      "execution_count": 48,
      "metadata": {
        "id": "xgph1yRjKlAn",
        "outputId": "c5ded5df-7492-4978-d78b-d67ef1033cf4",
        "colab": {
          "base_uri": "https://localhost:8080/"
        }
      },
      "outputs": [
        {
          "output_type": "execute_result",
          "data": {
            "text/plain": [
              "[{   'asset_class': <AssetClass.US_OPTION: 'us_option'>,\n",
              "     'asset_id': UUID('64a72a00-1651-4db4-a6b0-c4ba6525d3b4'),\n",
              "     'asset_marginable': True,\n",
              "     'avg_entry_price': '0.2',\n",
              "     'avg_entry_swap_rate': None,\n",
              "     'change_today': '-0.2758620689655172',\n",
              "     'cost_basis': '20',\n",
              "     'current_price': '0.21',\n",
              "     'exchange': <AssetExchange.EMPTY: ''>,\n",
              "     'lastday_price': '0.29',\n",
              "     'market_value': '21',\n",
              "     'qty': '1',\n",
              "     'qty_available': '1',\n",
              "     'side': <PositionSide.LONG: 'long'>,\n",
              "     'swap_rate': None,\n",
              "     'symbol': 'SPY241120P00577000',\n",
              "     'unrealized_intraday_pl': '1',\n",
              "     'unrealized_intraday_plpc': '0.05',\n",
              "     'unrealized_pl': '1',\n",
              "     'unrealized_plpc': '0.05',\n",
              "     'usd': None}]"
            ]
          },
          "metadata": {},
          "execution_count": 48
        }
      ],
      "source": [
        "# below cells should be done after market open otherwise there is no position for the option contract\n",
        "\n",
        "# get positions filtered by option contract symbol\n",
        "# if you do this example outside of market hours, you will see empty list\n",
        "# because we have no position in this option contract\n",
        "# please wait market open and run this example again\n",
        "positions = trade_client.get_all_positions()\n",
        "[pos for pos in positions if pos.symbol == high_open_interest_contract.symbol]"
      ]
    },
    {
      "cell_type": "code",
      "execution_count": 25,
      "metadata": {
        "id": "GiNIUZVBKlAn",
        "outputId": "42daf0fb-1645-40c9-e7e6-93fdf9c2ca8c",
        "colab": {
          "base_uri": "https://localhost:8080/"
        }
      },
      "outputs": [
        {
          "output_type": "execute_result",
          "data": {
            "text/plain": [
              "{   'asset_class': <AssetClass.US_OPTION: 'us_option'>,\n",
              "    'asset_id': UUID('64a72a00-1651-4db4-a6b0-c4ba6525d3b4'),\n",
              "    'asset_marginable': True,\n",
              "    'avg_entry_price': '0.23',\n",
              "    'avg_entry_swap_rate': None,\n",
              "    'change_today': '-0.3103448275862069',\n",
              "    'cost_basis': '23',\n",
              "    'current_price': '0.2',\n",
              "    'exchange': <AssetExchange.EMPTY: ''>,\n",
              "    'lastday_price': '0.29',\n",
              "    'market_value': '20',\n",
              "    'qty': '1',\n",
              "    'qty_available': '1',\n",
              "    'side': <PositionSide.LONG: 'long'>,\n",
              "    'swap_rate': None,\n",
              "    'symbol': 'SPY241120P00577000',\n",
              "    'unrealized_intraday_pl': '-3',\n",
              "    'unrealized_intraday_plpc': '-0.1304347826086957',\n",
              "    'unrealized_pl': '-3',\n",
              "    'unrealized_plpc': '-0.1304347826086957',\n",
              "    'usd': None}"
            ]
          },
          "metadata": {},
          "execution_count": 25
        }
      ],
      "source": [
        "# get positions by symbol\n",
        "trade_client.get_open_position(symbol_or_asset_id=high_open_interest_contract.symbol)\n"
      ]
    },
    {
      "cell_type": "code",
      "execution_count": 26,
      "metadata": {
        "id": "lMGFRBUgKlAn",
        "outputId": "a388d56b-ff96-4e1a-c1c7-4f236d366a1a",
        "colab": {
          "base_uri": "https://localhost:8080/"
        }
      },
      "outputs": [
        {
          "output_type": "execute_result",
          "data": {
            "text/plain": [
              "{   'asset_class': <AssetClass.US_OPTION: 'us_option'>,\n",
              "    'asset_id': UUID('64a72a00-1651-4db4-a6b0-c4ba6525d3b4'),\n",
              "    'asset_marginable': True,\n",
              "    'avg_entry_price': '0.23',\n",
              "    'avg_entry_swap_rate': None,\n",
              "    'change_today': '-0.3103448275862069',\n",
              "    'cost_basis': '23',\n",
              "    'current_price': '0.2',\n",
              "    'exchange': <AssetExchange.EMPTY: ''>,\n",
              "    'lastday_price': '0.29',\n",
              "    'market_value': '20',\n",
              "    'qty': '1',\n",
              "    'qty_available': '1',\n",
              "    'side': <PositionSide.LONG: 'long'>,\n",
              "    'swap_rate': None,\n",
              "    'symbol': 'SPY241120P00577000',\n",
              "    'unrealized_intraday_pl': '-3',\n",
              "    'unrealized_intraday_plpc': '-0.1304347826086957',\n",
              "    'unrealized_pl': '-3',\n",
              "    'unrealized_plpc': '-0.1304347826086957',\n",
              "    'usd': None}"
            ]
          },
          "metadata": {},
          "execution_count": 26
        }
      ],
      "source": [
        "# get positions by contract id\n",
        "trade_client.get_open_position(symbol_or_asset_id = high_open_interest_contract.id)"
      ]
    },
    {
      "cell_type": "code",
      "execution_count": 21,
      "metadata": {
        "id": "vi9WPafRKlAo",
        "outputId": "9bc6710d-dd74-4a68-8184-68547cc05c6d",
        "colab": {
          "base_uri": "https://localhost:8080/"
        }
      },
      "outputs": [
        {
          "output_type": "execute_result",
          "data": {
            "text/plain": [
              "{   'asset_class': <AssetClass.US_OPTION: 'us_option'>,\n",
              "    'asset_id': UUID('64a72a00-1651-4db4-a6b0-c4ba6525d3b4'),\n",
              "    'canceled_at': None,\n",
              "    'client_order_id': 'c849d15b-3faf-4f75-bc45-33e7df6f54aa',\n",
              "    'created_at': datetime.datetime(2024, 11, 19, 16, 12, 9, 791381, tzinfo=TzInfo(UTC)),\n",
              "    'expired_at': None,\n",
              "    'extended_hours': False,\n",
              "    'failed_at': None,\n",
              "    'filled_at': None,\n",
              "    'filled_avg_price': None,\n",
              "    'filled_qty': '0',\n",
              "    'hwm': None,\n",
              "    'id': UUID('3bd9b604-9d73-477e-8e4b-e32a96b3e09d'),\n",
              "    'legs': None,\n",
              "    'limit_price': None,\n",
              "    'notional': None,\n",
              "    'order_class': <OrderClass.SIMPLE: 'simple'>,\n",
              "    'order_type': <OrderType.MARKET: 'market'>,\n",
              "    'qty': '1',\n",
              "    'replaced_at': None,\n",
              "    'replaced_by': None,\n",
              "    'replaces': None,\n",
              "    'side': <OrderSide.SELL: 'sell'>,\n",
              "    'status': <OrderStatus.PENDING_NEW: 'pending_new'>,\n",
              "    'stop_price': None,\n",
              "    'submitted_at': datetime.datetime(2024, 11, 19, 16, 12, 9, 789782, tzinfo=TzInfo(UTC)),\n",
              "    'symbol': 'SPY241120P00577000',\n",
              "    'time_in_force': <TimeInForce.DAY: 'day'>,\n",
              "    'trail_percent': None,\n",
              "    'trail_price': None,\n",
              "    'type': <OrderType.MARKET: 'market'>,\n",
              "    'updated_at': datetime.datetime(2024, 11, 19, 16, 12, 9, 791444, tzinfo=TzInfo(UTC))}"
            ]
          },
          "metadata": {},
          "execution_count": 21
        }
      ],
      "source": [
        "# close the option position\n",
        "trade_client.close_position(\n",
        "    symbol_or_asset_id = high_open_interest_contract.symbol,\n",
        "    close_options = ClosePositionRequest(qty = \"1\")\n",
        ")"
      ]
    },
    {
      "cell_type": "code",
      "execution_count": 30,
      "metadata": {
        "id": "l2XwFAGeKlAo"
      },
      "outputs": [],
      "source": [
        "# exercise the options position\n",
        "# - this method does not return anything\n",
        "trade_client.exercise_options_position(\n",
        "    symbol_or_contract_id = high_open_interest_contract.symbol\n",
        ")"
      ]
    },
    {
      "cell_type": "markdown",
      "metadata": {
        "id": "jsOAR1TbKlAo"
      },
      "source": [
        "# Trade Update (Stream)"
      ]
    },
    {
      "cell_type": "markdown",
      "metadata": {
        "id": "DsLLWZgsKlAp"
      },
      "source": [
        "With TradingStream client, you can get updates about trades\n",
        "\n",
        "fyi. you can open this notebook in another window and run below cell to check trade updates."
      ]
    },
    {
      "cell_type": "code",
      "execution_count": null,
      "metadata": {
        "id": "2693FRWqKlAp"
      },
      "outputs": [],
      "source": [
        "# subscribe trade updates\n",
        "trade_stream_client = TradingStream(api_key, secret_key, paper=paper, url_override = trade_api_wss)\n",
        "\n",
        "async def trade_updates_handler(data):\n",
        "    print(data)\n",
        "\n",
        "trade_stream_client.subscribe_trade_updates(trade_updates_handler)\n",
        "trade_stream_client.run()"
      ]
    },
    {
      "cell_type": "markdown",
      "metadata": {
        "id": "-QdG4DxiKlAq"
      },
      "source": [
        "# Market Data (Historical)"
      ]
    },
    {
      "cell_type": "code",
      "execution_count": null,
      "metadata": {
        "id": "yMtYFDi7KlAq"
      },
      "outputs": [],
      "source": [
        "# setup option historical data client\n",
        "option_historical_data_client = OptionHistoricalDataClient(api_key, secret_key, url_override = data_api_url)"
      ]
    },
    {
      "cell_type": "code",
      "execution_count": null,
      "metadata": {
        "id": "qtYzf8pDKlAq"
      },
      "outputs": [],
      "source": [
        "# get options historical bars by symbol\n",
        "req = OptionBarsRequest(\n",
        "    symbol_or_symbols = high_open_interest_contract.symbol,\n",
        "    timeframe = TimeFrame(amount = 1, unit = TimeFrameUnit.Hour),   # specify timeframe\n",
        "    start = now - timedelta(days = 5),                              # specify start datetime, default=the beginning of the current day.\n",
        "    # end_date=None,                                                # specify end datetime, default=now\n",
        "    limit = 2,                                                      # specify limit\n",
        ")\n",
        "option_historical_data_client.get_option_bars(req).df"
      ]
    },
    {
      "cell_type": "code",
      "execution_count": null,
      "metadata": {
        "id": "k4-IPbNBKlAr"
      },
      "outputs": [],
      "source": [
        "# get options historical trades by symbol\n",
        "req = OptionTradesRequest(\n",
        "    symbol_or_symbols = high_open_interest_contract.symbol,\n",
        "    start = now - timedelta(days = 5),                              # specify start datetime, default=the beginning of the current day.\n",
        "    # end=None,                                                     # specify end datetime, default=now\n",
        "    limit = 2,                                                      # specify limit\n",
        ")\n",
        "option_historical_data_client.get_option_trades(req).df"
      ]
    },
    {
      "cell_type": "code",
      "execution_count": null,
      "metadata": {
        "id": "0JpM-VdkKlAr"
      },
      "outputs": [],
      "source": [
        "# get options exchange codes\n",
        "option_historical_data_client.get_option_exchange_codes()"
      ]
    },
    {
      "cell_type": "code",
      "execution_count": null,
      "metadata": {
        "id": "PTIBWnqFKlAs"
      },
      "outputs": [],
      "source": [
        "# get option latest quote by symbol\n",
        "req = OptionLatestQuoteRequest(\n",
        "    symbol_or_symbols = [high_open_interest_contract.symbol],\n",
        ")\n",
        "option_historical_data_client.get_option_latest_quote(req)"
      ]
    },
    {
      "cell_type": "code",
      "execution_count": null,
      "metadata": {
        "id": "9845wfHbKlAs"
      },
      "outputs": [],
      "source": [
        "# get option latest trade by symbol\n",
        "req = OptionLatestTradeRequest(\n",
        "    symbol_or_symbols = [high_open_interest_contract.symbol],\n",
        ")\n",
        "option_historical_data_client.get_option_latest_trade(req)"
      ]
    },
    {
      "cell_type": "code",
      "execution_count": null,
      "metadata": {
        "id": "bI4ct2RQKlAt"
      },
      "outputs": [],
      "source": [
        "# get option snapshot by symbol\n",
        "req = OptionSnapshotRequest(\n",
        "    symbol_or_symbols = [high_open_interest_contract.symbol],\n",
        ")\n",
        "option_historical_data_client.get_option_snapshot(req)"
      ]
    },
    {
      "cell_type": "code",
      "execution_count": null,
      "metadata": {
        "id": "GQ8ZtC1qKlAt"
      },
      "outputs": [],
      "source": [
        "# get option chain by underlying_symbol\n",
        "req = OptionChainRequest(\n",
        "    underlying_symbol = high_open_interest_contract.underlying_symbol,\n",
        ")\n",
        "option_historical_data_client.get_option_chain(req)"
      ]
    },
    {
      "cell_type": "markdown",
      "metadata": {
        "id": "StZAL9CaKlAu"
      },
      "source": [
        "# Market Data (Stream)"
      ]
    },
    {
      "cell_type": "code",
      "execution_count": null,
      "metadata": {
        "id": "NcABhJiUKlA2"
      },
      "outputs": [],
      "source": [
        "option_data_stream_client = OptionDataStream(api_key, secret_key, url_override = option_stream_data_wss)\n",
        "\n",
        "async def option_data_stream_handler(data):\n",
        "    print(data)\n",
        "\n",
        "symbols = [\n",
        "    high_open_interest_contract.symbol,\n",
        "]\n",
        "\n",
        "option_data_stream_client.subscribe_quotes(option_data_stream_handler, *symbols)\n",
        "option_data_stream_client.subscribe_trades(option_data_stream_handler, *symbols)\n",
        "\n",
        "option_data_stream_client.run()"
      ]
    }
  ],
  "metadata": {
    "kernelspec": {
      "display_name": ".venv",
      "language": "python",
      "name": "python3"
    },
    "language_info": {
      "codemirror_mode": {
        "name": "ipython",
        "version": 3
      },
      "file_extension": ".py",
      "mimetype": "text/x-python",
      "name": "python",
      "nbconvert_exporter": "python",
      "pygments_lexer": "ipython3",
      "version": "3.12.2"
    },
    "colab": {
      "provenance": []
    }
  },
  "nbformat": 4,
  "nbformat_minor": 0
}